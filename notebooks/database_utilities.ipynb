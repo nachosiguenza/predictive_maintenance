{
 "cells": [
  {
   "cell_type": "code",
   "execution_count": 1,
   "metadata": {},
   "outputs": [],
   "source": [
    "import sqlite3 as sql\n",
    "import pandas as pd\n",
    "import os"
   ]
  },
  {
   "cell_type": "code",
   "execution_count": 3,
   "metadata": {},
   "outputs": [],
   "source": [
    "os.chdir('x:\\\\Academico\\\\CUNEF\\\\TFM\\\\predictive_maintenance')\n",
    "path = os.getcwd()"
   ]
  },
  {
   "cell_type": "code",
   "execution_count": 5,
   "metadata": {},
   "outputs": [
    {
     "name": "stdout",
     "output_type": "stream",
     "text": [
      "2.6.0\n"
     ]
    }
   ],
   "source": [
    "def create_connection(db_name, path='../src/data/intermediate'):\n",
    "    \"\"\" Creates an SQLite database and database connection\"\"\"\n",
    "    conn = None\n",
    "    try:\n",
    "        conn = sql.connect(path+\"\\\\\"+db_name+\".db\")\n",
    "        print(sql.version)\n",
    "    except sql.Error as e:\n",
    "        print(e)\n",
    "    finally:\n",
    "        if conn:\n",
    "            conn.close()\n",
    "            \n",
    "            \n",
    "if __name__ == '__main__':\n",
    "    create_connection('hola')"
   ]
  },
  {
   "cell_type": "code",
   "execution_count": null,
   "metadata": {},
   "outputs": [],
   "source": [
    "def create_table(db_name, df):\n",
    "    conn = sql.connect('test_database')\n",
    "    c = conn.cursor()\n",
    "\n",
    "    c.execute('CREATE TABLE IF NOT EXISTS products (product_name text, price number)')\n",
    "    conn.commit()\n",
    "\n",
    "    data = {'product_name': ['Computer','Tablet','Monitor','Printer'],\n",
    "        'price': [900,300,450,150]\n",
    "        }\n",
    "\n",
    "    df = pd.DataFrame(data, columns= ['product_name','price'])\n",
    "    df.to_sql('products', conn, if_exists='replace', index = False)"
   ]
  },
  {
   "cell_type": "code",
   "execution_count": 4,
   "metadata": {},
   "outputs": [],
   "source": [
    "def db_operation(sql_query, db_name, path='../src/data/intermediate'):\n",
    "    \"\"\" Performs a given operation in an specified SQLite DDBB \"\"\"\n",
    "    conn = None\n",
    "    try:\n",
    "        conn = sql.connect(path+\"\\\\\"+db_name+\".db\")\n",
    "        cursor = conn.cursor()\n",
    "        cursor.execute(sql_query)\n",
    "        print(\"Operations confirmed!\")\n",
    "    except:\n",
    "        print(\"An error occured...\")\n",
    "    finally:\n",
    "        if conn:\n",
    "            conn.close()"
   ]
  }
 ],
 "metadata": {
  "interpreter": {
   "hash": "0d1fe9d91f4266d1363b01392053fa1dcb2605716e3a1e864892926fe38c5e85"
  },
  "kernelspec": {
   "display_name": "Python 3.8.13 ('tfm')",
   "language": "python",
   "name": "python3"
  },
  "language_info": {
   "codemirror_mode": {
    "name": "ipython",
    "version": 3
   },
   "file_extension": ".py",
   "mimetype": "text/x-python",
   "name": "python",
   "nbconvert_exporter": "python",
   "pygments_lexer": "ipython3",
   "version": "3.8.13"
  },
  "orig_nbformat": 4
 },
 "nbformat": 4,
 "nbformat_minor": 2
}
