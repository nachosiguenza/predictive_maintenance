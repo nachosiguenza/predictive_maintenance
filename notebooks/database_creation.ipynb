{
 "cells": [
  {
   "cell_type": "code",
   "execution_count": 4,
   "metadata": {},
   "outputs": [],
   "source": [
    "import sqlite3 as sql\n",
    "import pandas as pd\n",
    "import os"
   ]
  },
  {
   "cell_type": "code",
   "execution_count": 2,
   "metadata": {},
   "outputs": [],
   "source": [
    "os.chdir('x:\\\\Academico\\\\CUNEF\\\\TFM\\\\predictive_maintenance')\n",
    "path = os.getcwd()"
   ]
  },
  {
   "cell_type": "code",
   "execution_count": 6,
   "metadata": {},
   "outputs": [
    {
     "name": "stdout",
     "output_type": "stream",
     "text": [
      "unable to open database file\n"
     ]
    }
   ],
   "source": [
    "def create_connection(db_file):\n",
    "    \"\"\" create a database connection to a SQLite database \"\"\"\n",
    "    conn = None\n",
    "    try:\n",
    "        conn = sql.connect(db_file)\n",
    "        print(sql.version)\n",
    "    except sql.Error:\n",
    "        print(sql.Error)\n",
    "    finally:\n",
    "        if conn:\n",
    "            conn.close()\n",
    "            \n",
    "            \n",
    "if __name__ == '__main__':\n",
    "    create_connection(r\"C:\\sqlite\\db\\pythonsqlite.db\")"
   ]
  },
  {
   "cell_type": "code",
   "execution_count": null,
   "metadata": {},
   "outputs": [],
   "source": [
    "conn = sql.connect('pm.db')\n",
    "\n",
    "cursor_token = conn.cursor()\n",
    "\n",
    "pm_table = \"\"\"  CREATE TABLE EXPERIMENT (\n",
    "                VARCHAR() NOT NULL,\n",
    "                INT NOT NULL,\n",
    "                \n",
    "); \"\"\"\"\n",
    "\n",
    "conn.commit()\n",
    "conn.close()\n"
   ]
  }
 ],
 "metadata": {
  "interpreter": {
   "hash": "98e9beacc0659af5539f37080aaa0ffc86e0d94249a8452d14159bbdeab4297d"
  },
  "kernelspec": {
   "display_name": "Python 3.8.13 ('tfm')",
   "language": "python",
   "name": "python3"
  },
  "language_info": {
   "codemirror_mode": {
    "name": "ipython",
    "version": 3
   },
   "file_extension": ".py",
   "mimetype": "text/x-python",
   "name": "python",
   "nbconvert_exporter": "python",
   "pygments_lexer": "ipython3",
   "version": "3.8.13"
  },
  "orig_nbformat": 4
 },
 "nbformat": 4,
 "nbformat_minor": 2
}
