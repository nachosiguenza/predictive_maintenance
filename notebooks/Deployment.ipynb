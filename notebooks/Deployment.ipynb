{
 "cells": [
  {
   "cell_type": "code",
   "execution_count": null,
   "metadata": {},
   "outputs": [],
   "source": [
    "from pycaret.regression import load_model"
   ]
  },
  {
   "cell_type": "code",
   "execution_count": null,
   "metadata": {},
   "outputs": [
    {
     "name": "stdout",
     "output_type": "stream",
     "text": [
      "^C\n"
     ]
    }
   ],
   "source": [
    "!mlflow ui"
   ]
  },
  {
   "cell_type": "code",
   "execution_count": null,
   "metadata": {},
   "outputs": [],
   "source": [
    "pipeline = load_model('../src/models/pm_pipeline')\n",
    "\n",
    "print(pipeline)"
   ]
  }
 ],
 "metadata": {
  "interpreter": {
   "hash": "0d1fe9d91f4266d1363b01392053fa1dcb2605716e3a1e864892926fe38c5e85"
  },
  "kernelspec": {
   "display_name": "Python 3.8.13 ('tfm')",
   "language": "python",
   "name": "python3"
  },
  "language_info": {
   "name": "python",
   "version": "3.8.13"
  },
  "orig_nbformat": 4
 },
 "nbformat": 4,
 "nbformat_minor": 2
}
